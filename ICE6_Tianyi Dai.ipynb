{
 "cells": [
  {
   "cell_type": "markdown",
   "metadata": {},
   "source": [
    "# Principal Component Anaysis"
   ]
  },
  {
   "cell_type": "code",
   "execution_count": 1,
   "metadata": {},
   "outputs": [],
   "source": [
    "import pandas as pd\n",
    "import numpy as np\n",
    "from matplotlib import pyplot as plt"
   ]
  },
  {
   "cell_type": "code",
   "execution_count": 2,
   "metadata": {},
   "outputs": [
    {
     "data": {
      "text/plain": [
       "<matplotlib.collections.PathCollection at 0x7fcd56d033a0>"
      ]
     },
     "execution_count": 2,
     "metadata": {},
     "output_type": "execute_result"
    },
    {
     "data": {
      "image/png": "[encoded data removed]",
      "text/plain": [
       "<Figure size 432x288 with 1 Axes>"
      ]
     },
     "metadata": {
      "needs_background": "light"
     },
     "output_type": "display_data"
    }
   ],
   "source": [
    "np.random.seed(123)\n",
    "\n",
    "X = np.random.randn(200) + 1.5 ## Array of 200 values of x with means of 1 (by default) and sd of 1.5\n",
    "res = 0.5 * np.random.randn(200) ## Generate 200 residuals with sd of 0.6\n",
    "y = 1 + 2 * X + res\n",
    "\n",
    "twoDData = np.c_[X,y]\n",
    "\n",
    "plt.scatter(twoDData[:, 0], twoDData[:, 1])"
   ]
  },
  {
   "cell_type": "code",
   "execution_count": 3,
   "metadata": {},
   "outputs": [
    {
     "data": {
      "text/plain": [
       "PCA(n_components=2)"
      ]
     },
     "execution_count": 3,
     "metadata": {},
     "output_type": "execute_result"
    }
   ],
   "source": [
    "from sklearn.decomposition import PCA\n",
    "\n",
    "pca = PCA(n_components=2)\n",
    "pca.fit(twoDData)"
   ]
  },
  {
   "cell_type": "code",
   "execution_count": 4,
   "metadata": {},
   "outputs": [
    {
     "name": "stdout",
     "output_type": "stream",
     "text": [
      "[[-0.43316568 -0.90131431]\n",
      " [-0.90131431  0.43316568]]\n"
     ]
    }
   ],
   "source": [
    "print(pca.components_)"
   ]
  },
  {
   "cell_type": "code",
   "execution_count": 5,
   "metadata": {},
   "outputs": [
    {
     "name": "stdout",
     "output_type": "stream",
     "text": [
      "[5.75175781 0.04167795]\n"
     ]
    }
   ],
   "source": [
    "print(pca.explained_variance_)"
   ]
  },
  {
   "cell_type": "code",
   "execution_count": 6,
   "metadata": {},
   "outputs": [
    {
     "name": "stdout",
     "output_type": "stream",
     "text": [
      "original shape:    (200, 2)\n",
      "transformed shape: (200, 1)\n"
     ]
    }
   ],
   "source": [
    "pca = PCA(n_components=1)\n",
    "pca.fit(twoDData)\n",
    "twoDData_dr = pca.transform(twoDData)\n",
    "print(\"original shape:   \", twoDData.shape)\n",
    "print(\"transformed shape:\", twoDData_dr.shape)"
   ]
  },
  {
   "cell_type": "markdown",
   "metadata": {},
   "source": [
    "## PCA for Dimension Reduction"
   ]
  },
  {
   "cell_type": "code",
   "execution_count": 7,
   "metadata": {},
   "outputs": [
    {
     "data": {
      "text/plain": [
       "<matplotlib.collections.PathCollection at 0x7fcd57c498e0>"
      ]
     },
     "execution_count": 7,
     "metadata": {},
     "output_type": "execute_result"
    },
    {
     "data": {
      "image/png": "[encoded data removed]",
      "text/plain": [
       "<Figure size 432x288 with 1 Axes>"
      ]
     },
     "metadata": {
      "needs_background": "light"
     },
     "output_type": "display_data"
    }
   ],
   "source": [
    "twoDData_new = pca.inverse_transform(twoDData_dr)\n",
    "plt.scatter(twoDData[:, 0], twoDData[:, 1], alpha=0.5)\n",
    "plt.scatter(twoDData_new[:, 0], twoDData_new[:, 1], alpha=0.8)"
   ]
  },
  {
   "cell_type": "markdown",
   "metadata": {},
   "source": [
    "## PCA Example in an Intelligent Tutoring System"
   ]
  },
  {
   "cell_type": "code",
   "execution_count": 9,
   "metadata": {},
   "outputs": [
    {
     "data": {
      "text/html": [
       "<div>\n",
       "<style scoped>\n",
       "    .dataframe tbody tr th:only-of-type {\n",
       "        vertical-align: middle;\n",
       "    }\n",
       "\n",
       "    .dataframe tbody tr th {\n",
       "        vertical-align: top;\n",
       "    }\n",
       "\n",
       "    .dataframe thead th {\n",
       "        text-align: right;\n",
       "    }\n",
       "</style>\n",
       "<table border=\"1\" class=\"dataframe\">\n",
       "  <thead>\n",
       "    <tr style=\"text-align: right;\">\n",
       "      <th></th>\n",
       "      <th>id</th>\n",
       "      <th>prior_prob_count</th>\n",
       "      <th>prior_percent_correct</th>\n",
       "      <th>problems_attempted</th>\n",
       "      <th>mean_correct</th>\n",
       "      <th>mean_hint</th>\n",
       "      <th>mean_attempt</th>\n",
       "      <th>mean_confidence</th>\n",
       "    </tr>\n",
       "  </thead>\n",
       "  <tbody>\n",
       "    <tr>\n",
       "      <th>0</th>\n",
       "      <td>172777</td>\n",
       "      <td>650</td>\n",
       "      <td>0.723077</td>\n",
       "      <td>4</td>\n",
       "      <td>1.000000</td>\n",
       "      <td>0.000000</td>\n",
       "      <td>1.000000</td>\n",
       "      <td>0.550159</td>\n",
       "    </tr>\n",
       "    <tr>\n",
       "      <th>1</th>\n",
       "      <td>175658</td>\n",
       "      <td>1159</td>\n",
       "      <td>0.800690</td>\n",
       "      <td>22</td>\n",
       "      <td>0.454545</td>\n",
       "      <td>2.227273</td>\n",
       "      <td>1.227273</td>\n",
       "      <td>0.437515</td>\n",
       "    </tr>\n",
       "    <tr>\n",
       "      <th>2</th>\n",
       "      <td>175669</td>\n",
       "      <td>1239</td>\n",
       "      <td>0.656981</td>\n",
       "      <td>11</td>\n",
       "      <td>0.636364</td>\n",
       "      <td>1.363636</td>\n",
       "      <td>1.727273</td>\n",
       "      <td>0.511060</td>\n",
       "    </tr>\n",
       "    <tr>\n",
       "      <th>3</th>\n",
       "      <td>176151</td>\n",
       "      <td>1246</td>\n",
       "      <td>0.729535</td>\n",
       "      <td>16</td>\n",
       "      <td>0.750000</td>\n",
       "      <td>0.562500</td>\n",
       "      <td>1.187500</td>\n",
       "      <td>0.491578</td>\n",
       "    </tr>\n",
       "    <tr>\n",
       "      <th>4</th>\n",
       "      <td>176165</td>\n",
       "      <td>1299</td>\n",
       "      <td>0.568129</td>\n",
       "      <td>6</td>\n",
       "      <td>0.333333</td>\n",
       "      <td>2.166667</td>\n",
       "      <td>2.000000</td>\n",
       "      <td>0.409887</td>\n",
       "    </tr>\n",
       "    <tr>\n",
       "      <th>...</th>\n",
       "      <td>...</td>\n",
       "      <td>...</td>\n",
       "      <td>...</td>\n",
       "      <td>...</td>\n",
       "      <td>...</td>\n",
       "      <td>...</td>\n",
       "      <td>...</td>\n",
       "      <td>...</td>\n",
       "    </tr>\n",
       "    <tr>\n",
       "      <th>337</th>\n",
       "      <td>253464</td>\n",
       "      <td>9</td>\n",
       "      <td>0.222222</td>\n",
       "      <td>23</td>\n",
       "      <td>0.782609</td>\n",
       "      <td>0.000000</td>\n",
       "      <td>1.347826</td>\n",
       "      <td>0.602103</td>\n",
       "    </tr>\n",
       "    <tr>\n",
       "      <th>338</th>\n",
       "      <td>253517</td>\n",
       "      <td>6</td>\n",
       "      <td>0.833333</td>\n",
       "      <td>16</td>\n",
       "      <td>0.562500</td>\n",
       "      <td>0.562500</td>\n",
       "      <td>2.062500</td>\n",
       "      <td>0.571269</td>\n",
       "    </tr>\n",
       "    <tr>\n",
       "      <th>339</th>\n",
       "      <td>255494</td>\n",
       "      <td>12</td>\n",
       "      <td>0.750000</td>\n",
       "      <td>3</td>\n",
       "      <td>0.666667</td>\n",
       "      <td>0.666667</td>\n",
       "      <td>1.333333</td>\n",
       "      <td>0.563379</td>\n",
       "    </tr>\n",
       "    <tr>\n",
       "      <th>340</th>\n",
       "      <td>256227</td>\n",
       "      <td>84</td>\n",
       "      <td>0.678571</td>\n",
       "      <td>3</td>\n",
       "      <td>0.333333</td>\n",
       "      <td>1.666667</td>\n",
       "      <td>1.333333</td>\n",
       "      <td>0.567501</td>\n",
       "    </tr>\n",
       "    <tr>\n",
       "      <th>341</th>\n",
       "      <td>257289</td>\n",
       "      <td>20</td>\n",
       "      <td>1.000000</td>\n",
       "      <td>4</td>\n",
       "      <td>1.000000</td>\n",
       "      <td>0.000000</td>\n",
       "      <td>1.000000</td>\n",
       "      <td>0.439283</td>\n",
       "    </tr>\n",
       "  </tbody>\n",
       "</table>\n",
       "<p>342 rows × 8 columns</p>\n",
       "</div>"
      ],
      "text/plain": [
       "         id  prior_prob_count  prior_percent_correct  problems_attempted  \\\n",
       "0    172777               650               0.723077                   4   \n",
       "1    175658              1159               0.800690                  22   \n",
       "2    175669              1239               0.656981                  11   \n",
       "3    176151              1246               0.729535                  16   \n",
       "4    176165              1299               0.568129                   6   \n",
       "..      ...               ...                    ...                 ...   \n",
       "337  253464                 9               0.222222                  23   \n",
       "338  253517                 6               0.833333                  16   \n",
       "339  255494                12               0.750000                   3   \n",
       "340  256227                84               0.678571                   3   \n",
       "341  257289                20               1.000000                   4   \n",
       "\n",
       "     mean_correct  mean_hint  mean_attempt  mean_confidence  \n",
       "0        1.000000   0.000000      1.000000         0.550159  \n",
       "1        0.454545   2.227273      1.227273         0.437515  \n",
       "2        0.636364   1.363636      1.727273         0.511060  \n",
       "3        0.750000   0.562500      1.187500         0.491578  \n",
       "4        0.333333   2.166667      2.000000         0.409887  \n",
       "..            ...        ...           ...              ...  \n",
       "337      0.782609   0.000000      1.347826         0.602103  \n",
       "338      0.562500   0.562500      2.062500         0.571269  \n",
       "339      0.666667   0.666667      1.333333         0.563379  \n",
       "340      0.333333   1.666667      1.333333         0.567501  \n",
       "341      1.000000   0.000000      1.000000         0.439283  \n",
       "\n",
       "[342 rows x 8 columns]"
      ]
     },
     "execution_count": 9,
     "metadata": {},
     "output_type": "execute_result"
    }
   ],
   "source": [
    "ICEdata = pd.read_csv(\"ICE6_Data.csv\")\n",
    "ICEdata"
   ]
  },
  {
   "cell_type": "code",
   "execution_count": 10,
   "metadata": {},
   "outputs": [
    {
     "name": "stdout",
     "output_type": "stream",
     "text": [
      "The principal components are:\n",
      "[[ 9.99998379e-01  3.25231653e-05  1.72229676e-03  6.65415156e-05\n",
      "   4.97054823e-04  1.49367002e-04  1.15030348e-05]\n",
      " [-1.73541120e-03  1.03037706e-03  9.99602228e-01  2.30861751e-03\n",
      "   2.23020180e-02  1.69662730e-02 -8.64582845e-04]\n",
      " [-3.87330335e-04 -3.27396081e-02 -2.70451869e-02 -1.24635620e-01\n",
      "   6.73010236e-01  7.27812593e-01  2.92226368e-03]\n",
      " [ 2.29120283e-04  3.26414469e-02  3.68040760e-03  1.78860696e-01\n",
      "  -7.05688901e-01  6.84765009e-01  5.46329794e-03]\n",
      " [ 1.63571033e-04 -1.96336169e-01  6.70115719e-03 -9.52166155e-01\n",
      "  -2.19898499e-01  3.19977181e-02 -7.35362922e-02]\n",
      " [ 1.91456302e-05 -9.79282671e-01  7.60612436e-04  1.99617334e-01\n",
      "  -2.17110326e-03 -7.96442781e-03  3.30097853e-02]\n",
      " [ 1.73255132e-06 -1.78647923e-02 -1.39538358e-03  7.74726598e-02\n",
      "   1.42375081e-02  3.24800341e-03 -9.96726458e-01]]\n",
      "The explained variances are:\n",
      "[1.01909636e+05 9.65917304e+01 8.07223611e-01 4.21069102e-01\n",
      " 4.13364216e-02 1.60996431e-02 1.08938450e-02]\n"
     ]
    }
   ],
   "source": [
    "ICEdata_noid = ICEdata.drop(['id'], axis = 1)\n",
    "icepca = PCA(n_components=7)\n",
    "icepca.fit(ICEdata_noid)\n",
    "\n",
    "print(\"The principal components are:\")\n",
    "print(icepca.components_)\n",
    "print(\"The explained variances are:\")\n",
    "print(icepca.explained_variance_)"
   ]
  },
  {
   "cell_type": "code",
   "execution_count": 11,
   "metadata": {},
   "outputs": [
    {
     "data": {
      "text/plain": [
       "<matplotlib.collections.PathCollection at 0x7fcd57d348e0>"
      ]
     },
     "execution_count": 11,
     "metadata": {},
     "output_type": "execute_result"
    },
    {
     "data": {
      "image/png": "[encoded data removed]",
      "text/plain": [
       "<Figure size 432x288 with 1 Axes>"
      ]
     },
     "metadata": {
      "needs_background": "light"
     },
     "output_type": "display_data"
    }
   ],
   "source": [
    "icedata_dr = icepca.transform(ICEdata_noid)\n",
    "plt.scatter(icedata_dr[:,0], icedata_dr[:,1])"
   ]
  },
  {
   "cell_type": "code",
   "execution_count": 12,
   "metadata": {},
   "outputs": [
    {
     "data": {
      "text/plain": [
       "<matplotlib.collections.PathCollection at 0x7fcd585dd820>"
      ]
     },
     "execution_count": 12,
     "metadata": {},
     "output_type": "execute_result"
    },
    {
     "data": {
      "image/png": "[encoded data removed]",
      "text/plain": [
       "<Figure size 432x288 with 1 Axes>"
      ]
     },
     "metadata": {
      "needs_background": "light"
     },
     "output_type": "display_data"
    }
   ],
   "source": [
    "from sklearn.cluster import KMeans\n",
    "\n",
    "kmeans = KMeans(n_clusters=3)\n",
    "kmeans.fit(icedata_dr)\n",
    "cluster_kmeans = kmeans.predict(icedata_dr)\n",
    "\n",
    "plt.scatter(icedata_dr[:, 0], icedata_dr[:, 1], c=cluster_kmeans, cmap='viridis') # Use cluster_means as the indicator for clusters"
   ]
  },
  {
   "cell_type": "code",
   "execution_count": null,
   "metadata": {},
   "outputs": [],
   "source": []
  }
 ],
 "metadata": {
  "kernelspec": {
   "display_name": "Python 3",
   "language": "python",
   "name": "python3"
  },
  "language_info": {
   "codemirror_mode": {
    "name": "ipython",
    "version": 3
   },
   "file_extension": ".py",
   "mimetype": "text/x-python",
   "name": "python",
   "nbconvert_exporter": "python",
   "pygments_lexer": "ipython3",
   "version": "3.8.3"
  }
 },
 "nbformat": 4,
 "nbformat_minor": 4
}
